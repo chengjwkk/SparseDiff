{
 "cells": [
  {
   "cell_type": "code",
   "execution_count": 1,
   "metadata": {},
   "outputs": [],
   "source": [
    "import torch\n",
    "import numpy as np\n",
    "from torch.utils.data import Dataset, DataLoader, random_split\n"
   ]
  },
  {
   "cell_type": "code",
   "execution_count": 2,
   "metadata": {},
   "outputs": [
    {
     "name": "stdout",
     "output_type": "stream",
     "text": [
      "torch.Size([300, 49, 1, 128, 128])\n",
      "Training data normalized: min=0.0, max=1.0\n"
     ]
    }
   ],
   "source": [
    "system = \"sevir_tem\"\n",
    "# 加载训练数据\n",
    "x_train = np.load(f'/data5/chengjingwen/{system}/uv.npy')\n",
    "x_train = torch.tensor(x_train, dtype=torch.float32)  # 转换为 Tensor\n",
    "print(x_train.shape)\n",
    "\n",
    "# 计算训练集的 min 和 max，维度为 (1, n_vars, 1, 1)\n",
    "xmin = x_train.amin(dim=(0, 1, 3, 4), keepdim=True)  # 对轨迹数、时间步和空间维度求最小值\n",
    "xmax = x_train.amax(dim=(0, 1, 3, 4), keepdim=True)  # 对轨迹数、时间步和空间维度求最大值\n",
    "\n",
    "\n",
    "data = (x_train - xmin) / (xmax - xmin)\n",
    "\n",
    "\n",
    "print(f\"Training data normalized: min={data.min().item()}, max={data.max().item()}\")"
   ]
  },
  {
   "cell_type": "code",
   "execution_count": 3,
   "metadata": {},
   "outputs": [
    {
     "name": "stdout",
     "output_type": "stream",
     "text": [
      "Input shape: torch.Size([32, 20, 128, 64]), Target shape: torch.Size([32, 2, 128, 64])\n"
     ]
    }
   ],
   "source": [
    "import torch\n",
    "from torch.utils.data import Dataset, DataLoader, random_split\n",
    "\n",
    "class MultiStepInputDataset(Dataset):\n",
    "    def __init__(self, data, history_steps=10):\n",
    "        \"\"\"\n",
    "        data: Tensor, shape (num_trajectories, num_steps, num_variables, x_dim, y_dim)\n",
    "        history_steps: how many past steps to use as input\n",
    "        \"\"\"\n",
    "        self.data = data\n",
    "        self.history_steps = history_steps\n",
    "        self.num_trajectories, self.num_steps, self.num_variables, self.x_dim, self.y_dim = data.shape\n",
    "\n",
    "        # 确保有足够时间步能取 history_steps + 1（因为input要10步，output是第11步）\n",
    "        if self.num_steps <= self.history_steps:\n",
    "            raise ValueError(\"num_steps must be greater than history_steps\")\n",
    "\n",
    "    def __len__(self):\n",
    "        # 每条轨迹生成 (num_steps - history_steps) 个样本\n",
    "        return self.num_trajectories * (self.num_steps - self.history_steps)\n",
    "\n",
    "    def __getitem__(self, idx):\n",
    "        # 确定轨迹编号和在轨迹内的起点时间步\n",
    "        trajectory_idx = idx // (self.num_steps - self.history_steps)\n",
    "        time_idx = idx % (self.num_steps - self.history_steps)\n",
    "\n",
    "        # input: 连续 history_steps 个时间步，堆叠成channel\n",
    "        input_sequence = self.data[trajectory_idx, time_idx : time_idx + self.history_steps]  # (history_steps, num_variables, x_dim, y_dim)\n",
    "        input_data = input_sequence.reshape(-1, self.x_dim, self.y_dim)  # (history_steps*num_variables, x_dim, y_dim)\n",
    "\n",
    "        # target: 预测的第 history_steps 后的一个时间步\n",
    "        target_data = self.data[trajectory_idx, time_idx + self.history_steps]  # (num_variables, x_dim, y_dim)\n",
    "\n",
    "        return input_data, target_data\n",
    "\n",
    "\n",
    "train_data = data\n",
    "\n",
    "train_dataset = MultiStepInputDataset(train_data, history_steps=10)\n",
    "\n",
    "# 随机划分 80% train, 20% val\n",
    "train_size = int(0.8 * len(train_dataset))\n",
    "val_size = len(train_dataset) - train_size\n",
    "train_dataset, val_dataset = random_split(train_dataset, [train_size, val_size])\n",
    "\n",
    "train_loader = DataLoader(train_dataset, batch_size=32, shuffle=True)\n",
    "\n",
    "# 打印一个batch看看\n",
    "for inputs, targets in train_loader:\n",
    "    print(f\"Input shape: {inputs.shape}, Target shape: {targets.shape}\")\n",
    "    num_variables = inputs.shape[1]\n",
    "    break  # 只打印一次"
   ]
  },
  {
   "cell_type": "code",
   "execution_count": 3,
   "metadata": {},
   "outputs": [],
   "source": [
    "from neuralop.models import FNO, TFNO"
   ]
  },
  {
   "cell_type": "code",
   "execution_count": 7,
   "metadata": {},
   "outputs": [],
   "source": [
    "# import importlib.util\n",
    "\n",
    "# spec = importlib.util.spec_from_file_location(\n",
    "#     \"neuralop.models.fno\",\n",
    "#     \"/data4/chengjingwen/fno.py\"\n",
    "# )\n",
    "# module = importlib.util.module_from_spec(spec)\n",
    "# spec.loader.exec_module(module)\n",
    "\n",
    "# # 导入 FNO\n",
    "# FNO = module.FNO"
   ]
  },
  {
   "cell_type": "code",
   "execution_count": 17,
   "metadata": {},
   "outputs": [
    {
     "name": "stdout",
     "output_type": "stream",
     "text": [
      "模型总参数量: 23.53 M\n"
     ]
    }
   ],
   "source": [
    "\n",
    "# 初始化 FNO 模型\n",
    "mode = 16\n",
    "hidden_channels = 200\n",
    "# 后面时间充裕的话，我们得做超参数搜索，channel：【32、64、128、256】、n_modes：【4，8，12，16，20】\n",
    "T = 10\n",
    "model = FNO(\n",
    "    n_modes=(mode, mode),        # Fourier 模式的数量\n",
    "    hidden_channels=hidden_channels,      # 隐藏层通道数\n",
    "    in_channels=T,           # 输入变量数量（num_variables）\n",
    "    out_channels=1         # 输出变量数量（num_variables）\n",
    ")\n",
    "device = \"cuda:3\"\n",
    "model = model.to(device)\n",
    "num_params = sum(p.numel() for p in model.parameters())\n",
    "print(f\"模型总参数量: {num_params / 1e6:.2f} M\")"
   ]
  },
  {
   "cell_type": "code",
   "execution_count": 18,
   "metadata": {},
   "outputs": [],
   "source": [
    "import torch.optim as optim\n",
    "\n",
    "# 定义损失函数\n",
    "loss_fn = torch.nn.MSELoss()\n",
    "\n",
    "# 定义优化器\n"
   ]
  },
  {
   "cell_type": "code",
   "execution_count": 19,
   "metadata": {},
   "outputs": [
    {
     "name": "stderr",
     "output_type": "stream",
     "text": [
      "100%|██████████| 293/293 [01:03<00:00,  4.65it/s]\n"
     ]
    },
    {
     "name": "stdout",
     "output_type": "stream",
     "text": [
      "Epoch 1/10, Loss: 4.5560e-03\n"
     ]
    },
    {
     "name": "stderr",
     "output_type": "stream",
     "text": [
      "100%|██████████| 293/293 [00:48<00:00,  6.00it/s]\n"
     ]
    },
    {
     "name": "stdout",
     "output_type": "stream",
     "text": [
      "Epoch 2/10, Loss: 7.6651e-04\n"
     ]
    },
    {
     "name": "stderr",
     "output_type": "stream",
     "text": [
      "100%|██████████| 293/293 [00:53<00:00,  5.45it/s]\n"
     ]
    },
    {
     "name": "stdout",
     "output_type": "stream",
     "text": [
      "Epoch 3/10, Loss: 7.5069e-04\n"
     ]
    },
    {
     "name": "stderr",
     "output_type": "stream",
     "text": [
      "100%|██████████| 293/293 [00:50<00:00,  5.75it/s]\n"
     ]
    },
    {
     "name": "stdout",
     "output_type": "stream",
     "text": [
      "Epoch 4/10, Loss: 7.1194e-04\n"
     ]
    },
    {
     "name": "stderr",
     "output_type": "stream",
     "text": [
      "100%|██████████| 293/293 [00:54<00:00,  5.41it/s]\n"
     ]
    },
    {
     "name": "stdout",
     "output_type": "stream",
     "text": [
      "Epoch 5/10, Loss: 7.2340e-04\n"
     ]
    },
    {
     "name": "stderr",
     "output_type": "stream",
     "text": [
      "100%|██████████| 293/293 [00:51<00:00,  5.74it/s]\n"
     ]
    },
    {
     "name": "stdout",
     "output_type": "stream",
     "text": [
      "Epoch 6/10, Loss: 6.8738e-04\n"
     ]
    },
    {
     "name": "stderr",
     "output_type": "stream",
     "text": [
      "100%|██████████| 293/293 [00:54<00:00,  5.38it/s]\n"
     ]
    },
    {
     "name": "stdout",
     "output_type": "stream",
     "text": [
      "Epoch 7/10, Loss: 6.3579e-04\n"
     ]
    },
    {
     "name": "stderr",
     "output_type": "stream",
     "text": [
      "100%|██████████| 293/293 [00:47<00:00,  6.14it/s]\n"
     ]
    },
    {
     "name": "stdout",
     "output_type": "stream",
     "text": [
      "Epoch 8/10, Loss: 6.3136e-04\n"
     ]
    },
    {
     "name": "stderr",
     "output_type": "stream",
     "text": [
      "  3%|▎         | 9/293 [00:01<00:51,  5.56it/s]\n"
     ]
    },
    {
     "ename": "KeyboardInterrupt",
     "evalue": "",
     "output_type": "error",
     "traceback": [
      "\u001b[31m---------------------------------------------------------------------------\u001b[39m",
      "\u001b[31mKeyboardInterrupt\u001b[39m                         Traceback (most recent call last)",
      "\u001b[36mCell\u001b[39m\u001b[36m \u001b[39m\u001b[32mIn[19]\u001b[39m\u001b[32m, line 24\u001b[39m\n\u001b[32m     21\u001b[39m     loss.backward()\n\u001b[32m     22\u001b[39m     optimizer.step()\n\u001b[32m---> \u001b[39m\u001b[32m24\u001b[39m     epoch_loss += loss.item()\n\u001b[32m     26\u001b[39m \u001b[38;5;28mprint\u001b[39m(\u001b[33mf\u001b[39m\u001b[33m\"\u001b[39m\u001b[33mEpoch \u001b[39m\u001b[38;5;132;01m{\u001b[39;00mepoch+\u001b[32m1\u001b[39m\u001b[38;5;132;01m}\u001b[39;00m\u001b[33m/\u001b[39m\u001b[38;5;132;01m{\u001b[39;00mnum_epochs\u001b[38;5;132;01m}\u001b[39;00m\u001b[33m, Loss: \u001b[39m\u001b[38;5;132;01m{\u001b[39;00mepoch_loss/\u001b[38;5;28mlen\u001b[39m(train_loader)\u001b[38;5;132;01m:\u001b[39;00m\u001b[33m.4e\u001b[39m\u001b[38;5;132;01m}\u001b[39;00m\u001b[33m\"\u001b[39m)\n",
      "\u001b[31mKeyboardInterrupt\u001b[39m: "
     ]
    }
   ],
   "source": [
    "from tqdm import tqdm\n",
    "num_epochs = 10\n",
    "optimizer = optim.Adam(model.parameters(), lr=1e-3)\n",
    "\n",
    "# 训练模型\n",
    "for epoch in range(num_epochs):\n",
    "    model.train()  # 切换到训练模式\n",
    "    epoch_loss = 0.0\n",
    "\n",
    "    for inputs, targets in tqdm(train_loader):\n",
    "        inputs, targets = inputs.to(device), targets.to(device)\n",
    "        optimizer.zero_grad()  # 清空梯度\n",
    "\n",
    "        \n",
    "        predictions = model(inputs)\n",
    "\n",
    "      \n",
    "        loss = loss_fn(predictions, targets)\n",
    "\n",
    "       \n",
    "        loss.backward()\n",
    "        optimizer.step()\n",
    "\n",
    "        epoch_loss += loss.item()\n",
    "\n",
    "    print(f\"Epoch {epoch+1}/{num_epochs}, Loss: {epoch_loss/len(train_loader):.4e}\")"
   ]
  },
  {
   "cell_type": "code",
   "execution_count": 20,
   "metadata": {},
   "outputs": [],
   "source": [
    "# save_path = f\"/data3/chengjingwen/diffusion-mdpnet/trained_model/baseline/{system}/fno_{mode}_{hidden_channels}.pth\"\n",
    "# torch.save(model.state_dict(), save_path)"
   ]
  },
  {
   "cell_type": "code",
   "execution_count": 5,
   "metadata": {},
   "outputs": [
    {
     "name": "stderr",
     "output_type": "stream",
     "text": [
      "/tmp/ipykernel_402236/2811483357.py:13: FutureWarning: You are using `torch.load` with `weights_only=False` (the current default value), which uses the default pickle module implicitly. It is possible to construct malicious pickle data which will execute arbitrary code during unpickling (See https://github.com/pytorch/pytorch/blob/main/SECURITY.md#untrusted-models for more details). In a future release, the default value for `weights_only` will be flipped to `True`. This limits the functions that could be executed during unpickling. Arbitrary objects will no longer be allowed to be loaded via this mode unless they are explicitly allowlisted by the user via `torch.serialization.add_safe_globals`. We recommend you start setting `weights_only=True` for any use case where you don't have full control of the loaded file. Please open an issue on GitHub for any issues related to this experimental feature.\n",
      "  model.load_state_dict(torch.load(f'/data3/chengjingwen/diffusion-mdpnet/trained_model/baseline/{system}/fno_{mode}_{hidden_channels}.pth'))\n"
     ]
    },
    {
     "data": {
      "text/plain": [
       "FNO(\n",
       "  (positional_embedding): GridEmbeddingND()\n",
       "  (fno_blocks): FNOBlocks(\n",
       "    (convs): ModuleList(\n",
       "      (0-3): 4 x SpectralConv(\n",
       "        (weight): DenseTensor(shape=torch.Size([200, 200, 16, 9]), rank=None)\n",
       "      )\n",
       "    )\n",
       "    (fno_skips): ModuleList(\n",
       "      (0-3): 4 x Flattened1dConv(\n",
       "        (conv): Conv1d(200, 200, kernel_size=(1,), stride=(1,), bias=False)\n",
       "      )\n",
       "    )\n",
       "    (channel_mlp): ModuleList(\n",
       "      (0-3): 4 x ChannelMLP(\n",
       "        (fcs): ModuleList(\n",
       "          (0): Conv1d(200, 100, kernel_size=(1,), stride=(1,))\n",
       "          (1): Conv1d(100, 200, kernel_size=(1,), stride=(1,))\n",
       "        )\n",
       "      )\n",
       "    )\n",
       "    (channel_mlp_skips): ModuleList(\n",
       "      (0-3): 4 x SoftGating()\n",
       "    )\n",
       "  )\n",
       "  (lifting): ChannelMLP(\n",
       "    (fcs): ModuleList(\n",
       "      (0): Conv1d(12, 400, kernel_size=(1,), stride=(1,))\n",
       "      (1): Conv1d(400, 200, kernel_size=(1,), stride=(1,))\n",
       "    )\n",
       "  )\n",
       "  (projection): ChannelMLP(\n",
       "    (fcs): ModuleList(\n",
       "      (0): Conv1d(200, 400, kernel_size=(1,), stride=(1,))\n",
       "      (1): Conv1d(400, 1, kernel_size=(1,), stride=(1,))\n",
       "    )\n",
       "  )\n",
       ")"
      ]
     },
     "execution_count": 5,
     "metadata": {},
     "output_type": "execute_result"
    }
   ],
   "source": [
    "# test\n",
    "T = 10\n",
    "system = \"sevir_tem\"\n",
    "mode = 16\n",
    "hidden_channels = 200\n",
    "model = FNO(\n",
    "    n_modes=(mode, mode),        # Fourier 模式的数量\n",
    "    hidden_channels=hidden_channels,      # 隐藏层通道数\n",
    "    in_channels=T,           # 输入变量数量（num_variables）\n",
    "    out_channels=1          # 输出变量数量（num_variables）\n",
    ")\n",
    "device = \"cuda:2\"\n",
    "model.load_state_dict(torch.load(f'/data3/chengjingwen/diffusion-mdpnet/trained_model/baseline/{system}/fno_{mode}_{hidden_channels}.pth'))\n",
    "model.to(device)\n",
    "model.eval()  # 切换到推理模式"
   ]
  },
  {
   "cell_type": "code",
   "execution_count": 6,
   "metadata": {},
   "outputs": [
    {
     "name": "stdout",
     "output_type": "stream",
     "text": [
      "Test data normalized: min=0.0, max=0.913608968257904\n"
     ]
    }
   ],
   "source": [
    "import torch\n",
    "import numpy as np\n",
    "\n",
    "system = \"sevir_tem\"\n",
    "x_test = np.load(f'/data5/chengjingwen/{system}/uv_test.npy')\n",
    "x_test = torch.tensor(x_test, dtype=torch.float32)  # 转换为 Tensor\n",
    "# x_test = clip(x_test)\n",
    "x_test_normalized = (x_test - xmin) / (xmax - xmin)\n",
    "\n",
    "print(f\"Test data normalized: min={x_test_normalized.min().item()}, max={x_test_normalized.max().item()}\")"
   ]
  },
  {
   "cell_type": "code",
   "execution_count": 5,
   "metadata": {},
   "outputs": [
    {
     "data": {
      "image/png": "[encoded data removed]",
      "text/plain": [
       "<Figure size 640x480 with 1 Axes>"
      ]
     },
     "metadata": {},
     "output_type": "display_data"
    }
   ],
   "source": [
    "import matplotlib.pyplot as plt\n",
    "plt.hist(x_test_normalized.flatten(), bins=100)\n",
    "plt.title(\"Normalized test data\")\n",
    "plt.show()"
   ]
  },
  {
   "cell_type": "code",
   "execution_count": 11,
   "metadata": {
    "notebookRunGroups": {
     "groupValue": "2"
    }
   },
   "outputs": [
    {
     "ename": "NameError",
     "evalue": "name 'n' is not defined",
     "output_type": "error",
     "traceback": [
      "\u001b[31m---------------------------------------------------------------------------\u001b[39m",
      "\u001b[31mNameError\u001b[39m                                 Traceback (most recent call last)",
      "\u001b[36mCell\u001b[39m\u001b[36m \u001b[39m\u001b[32mIn[11]\u001b[39m\u001b[32m, line 103\u001b[39m\n\u001b[32m     96\u001b[39m     clear_output(wait=\u001b[38;5;28;01mTrue\u001b[39;00m)  \u001b[38;5;66;03m# 显示当前时间步，清除上一时间步\u001b[39;00m\n\u001b[32m     97\u001b[39m \u001b[38;5;66;03m# #     # end = time.time()\u001b[39;00m\n\u001b[32m     98\u001b[39m \u001b[38;5;66;03m# #     # print(end-start)\u001b[39;00m\n\u001b[32m--> \u001b[39m\u001b[32m103\u001b[39m \u001b[38;5;28mprint\u001b[39m(\u001b[33mf\u001b[39m\u001b[33m\"\u001b[39m\u001b[38;5;132;01m{\u001b[39;00mn\u001b[38;5;132;01m}\u001b[39;00m\u001b[33m\"\u001b[39m)\n\u001b[32m    104\u001b[39m \u001b[38;5;66;03m# print(f\"NMSE Mean: {results['NMSE_mean']}\")\u001b[39;00m\n\u001b[32m    105\u001b[39m \u001b[38;5;66;03m# print(f\"NMSE Std: {results['NMSE_std']}\")\u001b[39;00m\n\u001b[32m    106\u001b[39m \u001b[38;5;28mprint\u001b[39m(\u001b[33mf\u001b[39m\u001b[33m\"\u001b[39m\u001b[33mSSIM Mean: \u001b[39m\u001b[38;5;132;01m{\u001b[39;00mresults[\u001b[33m'\u001b[39m\u001b[33mSSIM_mean\u001b[39m\u001b[33m'\u001b[39m]\u001b[38;5;132;01m}\u001b[39;00m\u001b[33m\"\u001b[39m)\n",
      "\u001b[31mNameError\u001b[39m: name 'n' is not defined"
     ]
    }
   ],
   "source": [
    "import numpy as np\n",
    "import torch\n",
    "from torchmetrics.functional import structural_similarity_index_measure as ssim\n",
    "import matplotlib.pyplot as plt\n",
    "from IPython.display import clear_output\n",
    "\n",
    "pred_step = 10\n",
    "start_time = 20\n",
    "\n",
    "def compute_nmse(predictions, targets):\n",
    "    \"\"\"计算 NMSE\"\"\"\n",
    "    return torch.mean(((predictions - targets) ** 2)) / torch.mean((targets ** 2))\n",
    "\n",
    "def compute_rmse(predictions, targets):\n",
    "    \"\"\"计算 RMSE\"\"\"\n",
    "    mse = torch.mean((predictions - targets) ** 2)\n",
    "    return torch.sqrt(mse)\n",
    "\n",
    "device = \"cuda:2\"\n",
    "\n",
    "# model.to(device)\n",
    "test_data = x_test_normalized.to(device)[:1]\n",
    "\n",
    "\n",
    "\n",
    "\n",
    "model.eval()\n",
    "num_trajectories, T, num_variables, x_dim, y_dim = test_data.shape\n",
    "\n",
    "nmse_list = []\n",
    "ssim_list = []\n",
    "rmse_list = []\n",
    "\n",
    "for trajectory_idx in range(num_trajectories):\n",
    "    print(f\"now for {trajectory_idx}\")\n",
    "    trajectory = test_data[trajectory_idx]  # shape [100, num_variables, x_dim, y_dim]\n",
    "    print(trajectory.shape)\n",
    "    \n",
    "    truth = trajectory[start_time :start_time + pred_step].to(device)  # 未来 10 步\n",
    "    print(truth.shape)\n",
    "\n",
    "    # 初始化\n",
    "    predictions = torch.zeros((pred_step, num_variables, x_dim, y_dim)).to(device)\n",
    "\n",
    "    for t in range(pred_step):\n",
    "        if t == 0:\n",
    "            input_data = trajectory[start_time-10 :start_time].reshape(-1, x_dim, y_dim).unsqueeze(0).to(device)  # 起始时间的输入  # (1, 10*2 128, 128)\n",
    "        # else:\n",
    "        #     input_data = predictions[t - 1].unsqueeze(0)  # 前一帧的预测作为输入\n",
    "        predictions[t] = model(input_data)  # (1, 2, 128, 128)\n",
    "        input_data = input_data[:, num_variables:]\n",
    "        input_data = torch.cat([input_data, predictions[t:t+1]], dim = 1)\n",
    "\n",
    "    # 计算 SSIM\n",
    "    ssim_values = ssim(predictions, truth, data_range=1.0).item()\n",
    "\n",
    "    # 计算 NMSE\n",
    "    nmse_trajectory = compute_nmse(predictions, truth).item()\n",
    "\n",
    "    # 计算 RMSE\n",
    "    rmse_trajectory = compute_rmse(predictions, truth).item()\n",
    "\n",
    "    nmse_list.append(nmse_trajectory)\n",
    "    ssim_list.append(ssim_values)\n",
    "    rmse_list.append(rmse_trajectory)\n",
    "\n",
    "# 汇总结果\n",
    "nmse_mean, nmse_std = np.mean(nmse_list), np.std(nmse_list)\n",
    "ssim_mean, ssim_std = np.mean(ssim_list), np.std(ssim_list)\n",
    "rmse_mean, rmse_std = np.mean(rmse_list), np.std(rmse_list)\n",
    "\n",
    "channel = 0\n",
    "for t in range(pred_step):\n",
    "    plt.figure(figsize=(12, 4))\n",
    "\n",
    "    # Ground Truth\n",
    "    plt.subplot(131)\n",
    "    plt.title(f\"Ground Truth (step={ t + 1})\")\n",
    "    plt.imshow(truth[t, channel].cpu().numpy(), cmap=\"coolwarm\", vmin=0, vmax=1)\n",
    "    plt.colorbar()\n",
    "\n",
    "    # Prediction\n",
    "    plt.subplot(132)\n",
    "    plt.title(\"Prediction\")\n",
    "    plt.imshow(predictions[t, channel].detach().cpu().numpy(), cmap=\"coolwarm\", vmin=0, vmax=1)\n",
    "    plt.colorbar()\n",
    "\n",
    "    # Difference and MSE\n",
    "    nmse = compute_nmse(truth[t:t+1], predictions[t:t+1]).item()\n",
    "    plt.subplot(133)\n",
    "    plt.title(f\"Difference (NMSE={nmse:.5f})\")\n",
    "    plt.imshow(torch.abs(truth[t, channel] - predictions[t, channel].detach()).cpu().numpy(), cmap=\"coolwarm\")\n",
    "    plt.colorbar()\n",
    "\n",
    "    plt.show()\n",
    "    clear_output(wait=True)  # 显示当前时间步，清除上一时间步\n",
    "# #     # end = time.time()\n",
    "# #     # print(end-start)\n",
    "\n",
    "\n",
    "\n",
    "\n",
    "print(f\"{n}\")\n",
    "# print(f\"NMSE Mean: {results['NMSE_mean']}\")\n",
    "# print(f\"NMSE Std: {results['NMSE_std']}\")\n",
    "print(f\"SSIM Mean: {results['SSIM_mean']}\")\n",
    "# print(f\"SSIM Std: {results['SSIM_std']}\")\n",
    "print(f\"RMSE Mean: {results['RMSE_mean']}\")\n",
    "# print(f\"RMSE Std: {results['RMSE_std']}\")\n",
    "\n",
    "\n",
    "# 遍历测试集\n",
    "# with torch.no_grad():\n",
    "#     # start = time.time()\n",
    "#     for trajectory_idx, trajectory in enumerate(test_data):  # 假设 test_data 包含完整轨迹\n",
    "#         # start_step = np.random.randint(0, 40)  # 随机选取起始时间步\n",
    "#         start_step = 0\n",
    "#         # trajectory 的形状: (num_steps, num_variables, x_dim, y_dim)\n",
    "#         trajectory = trajectory.to(device)\n",
    "\n",
    "#         # 初始条件（从指定的时间步开始）\n",
    "#         initial_condition = trajectory[start_step:start_step + 1]  # (1, num_variables, x_dim, y_dim)\n",
    "#         future_truth = trajectory[start_step + 1:start_step + 1 + lookahead_steps]  # 真值\n",
    "#         future_pred = []  # 存储预测结果\n",
    "\n",
    "#         # 自回归预测\n",
    "#         for t in range(lookahead_steps):\n",
    "#             # 使用模型预测\n",
    "#             prediction = model(initial_condition)  # 输出 (1, num_variables, x_dim, y_dim)\n",
    "#             future_pred.append(prediction.squeeze(0))  # 存储预测结果（保持在 GPU 上）\n",
    "\n",
    "#             # 更新初始条件（滚动窗口）\n",
    "#             initial_condition = prediction  # 用预测值作为下一步输入\n",
    "\n",
    "#         # 转换预测结果为张量\n",
    "#         future_pred = torch.stack(future_pred, dim=0)  # (lookahead_steps, num_variables, x_dim, y_dim)\n",
    "#         frames = []\n",
    "#         # 可视化结果\n",
    "#         channel = 0\n",
    "#         vmin, vmax = future_truth[:, channel].min(), future_truth[:, channel].max()\n",
    "channel = 0\n"
   ]
  },
  {
   "cell_type": "code",
   "execution_count": 12,
   "metadata": {},
   "outputs": [
    {
     "name": "stdout",
     "output_type": "stream",
     "text": [
      "torch.Size([10, 1, 128, 128])\n"
     ]
    }
   ],
   "source": [
    "print(predictions.shape)"
   ]
  },
  {
   "cell_type": "code",
   "execution_count": 14,
   "metadata": {},
   "outputs": [],
   "source": [
    "import matplotlib.pyplot as plt\n",
    "import numpy as np\n",
    "\n",
    "# 转换为 numpy\n",
    "# tru_np = tru.cpu().numpy()[0] if hasattr(tru, 'cpu') else tru\n",
    "pred_np = predictions.detach().cpu().numpy()[0,0]\n",
    "# reconstruct_np = reconstructed.cpu().numpy()[0, 0]\n",
    "# sparse_np = sparse_tensor.cpu().numpy()[0, 0]\n",
    "\n",
    "# 通用保存函数\n",
    "def save_image(array, path, cmap='coolwarm', mask_zeros=False):\n",
    "    fig, ax = plt.subplots(figsize=(6, 6))\n",
    "\n",
    "    if mask_zeros:\n",
    "        array = np.where(array == -1, np.nan, array)\n",
    "        cmap_with_nan = plt.get_cmap(cmap).copy()\n",
    "        cmap_with_nan.set_bad(color='white')\n",
    "        im = ax.imshow(array, cmap=cmap_with_nan)\n",
    "    else:\n",
    "        im = ax.imshow(array, cmap=cmap)\n",
    "\n",
    "    ax.axis('off')\n",
    "    plt.tight_layout()\n",
    "    plt.savefig(path, format='pdf', dpi=300, bbox_inches='tight', pad_inches=0)\n",
    "    plt.close()\n",
    "\n",
    "# 保存为 PDF\n",
    "# save_image(tru_np,         \"/data3/chengjingwen/diffusion-mdpnet/figures/climate_tru.pdf\")\n",
    "save_image(pred_np,        \"/data3/chengjingwen/diffusion-mdpnet/figures/climate_fno.pdf\")\n",
    "# save_image(reconstruct_np, \"/data3/chengjingwen/diffusion-mdpnet/figures/1024-reconstruct.pdf\")\n",
    "# save_image(sparse_np,      \"/data3/chengjingwen/diffusion-mdpnet/figures/1024-sparse.pdf\", mask_zeros=True)"
   ]
  },
  {
   "cell_type": "code",
   "execution_count": 12,
   "metadata": {},
   "outputs": [
    {
     "name": "stdout",
     "output_type": "stream",
     "text": [
      "now for 0\n",
      "pearson [[0.99887443 0.99783999 0.9967885  0.99583489 0.99486423 0.99399883\n",
      "  0.99316019 0.99238175 0.99215251 0.99135578 0.98947114 0.98593551\n",
      "  0.98036349 0.97195631 0.96060216 0.94860786 0.93750995 0.92972243\n",
      "  0.9259547  0.92431873 0.92191046 0.91748416 0.91095197 0.90151185\n",
      "  0.88972306 0.87689245 0.86346185 0.84769338 0.82701719 0.80644381\n",
      "  0.78988457 0.77987641 0.77570903 0.77733082 0.77675825 0.7687633\n",
      "  0.75689888 0.74441993 0.73296648 0.72293723 0.71521026 0.70994961\n",
      "  0.7061131  0.70715117 0.71036911 0.7162832  0.72489393 0.73393869\n",
      "  0.74180114 0.7449041  0.74473834 0.74171108 0.73331869 0.72491974\n",
      "  0.73225683 0.75414211 0.77214408 0.78287303 0.79105973 0.79621935\n",
      "  0.7929849  0.78140533 0.76455235 0.74704546 0.73270893 0.72094369\n",
      "  0.71036834 0.69457591 0.6746884  0.65252405 0.62487882 0.59539419\n",
      "  0.56284738 0.50965738 0.44257477 0.39441529 0.36883157 0.34940261\n",
      "  0.32663321 0.30052802 0.27643552 0.25314674 0.23080382 0.2117622\n",
      "  0.17921217 0.11826771 0.0585524  0.03970546 0.05619307 0.08373518\n",
      "  0.10236898 0.11271716 0.12212133 0.12676308 0.12190273 0.10323276\n",
      "  0.07260674 0.04096527 0.01786208 0.00620808 0.0123709  0.03246804\n",
      "  0.05706964 0.08291452 0.10419712 0.11646517 0.1183511  0.11072085\n",
      "  0.09510994 0.07421493 0.0570481  0.04408258 0.02964636 0.02134886\n",
      "  0.02888455 0.05492857 0.0898004  0.12368268 0.14737253 0.16139258\n",
      "  0.1678004  0.17016527 0.16333166 0.14163893 0.10791747 0.07753332\n",
      "  0.06371979 0.06766839 0.08729586 0.10991633]]\n",
      "\n",
      "===== Summary =====\n",
      "NMSE Mean: 2.72634, Std: 0.00000\n",
      "SSIM Mean: 0.60411, Std: 0.00000\n",
      "RMSE Mean: 0.95590, Std: 0.00000\n",
      "High Corr Time @0.9: 24.0 steps\n",
      "High Corr Time @0.8: 30.0 steps\n",
      "====================\n",
      "\n"
     ]
    }
   ],
   "source": [
    "import numpy as np\n",
    "import torch\n",
    "from torchmetrics.functional import structural_similarity_index_measure as ssim\n",
    "import matplotlib.pyplot as plt\n",
    "from IPython.display import clear_output\n",
    "\n",
    "pred_step = 130\n",
    "start_time = 20\n",
    "\n",
    "def compute_nmse(predictions, targets):\n",
    "    \"\"\"计算 NMSE\"\"\"\n",
    "    return torch.mean(((predictions - targets) ** 2)) / torch.mean((targets ** 2))\n",
    "\n",
    "def compute_rmse(predictions, targets):\n",
    "    \"\"\"计算 RMSE\"\"\"\n",
    "    mse = torch.mean((predictions - targets) ** 2)\n",
    "    return torch.sqrt(mse)\n",
    "\n",
    "def compute_pearson(pred, target):\n",
    "    \"\"\"逐帧计算 Pearson 相关系数，输入形状 (T, C, H, W)\"\"\"\n",
    "    T = pred.shape[0]\n",
    "    pearson_scores = []\n",
    "\n",
    "    for t in range(T):\n",
    "        x = pred[t].reshape(-1).detach()\n",
    "        y = target[t].reshape(-1).detach()\n",
    "        x_mean = x.mean()\n",
    "        y_mean = y.mean()\n",
    "        cov = ((x - x_mean) * (y - y_mean)).mean()\n",
    "        std_x = x.std()\n",
    "        std_y = y.std()\n",
    "        corr = cov / (std_x * std_y + 1e-8)\n",
    "        pearson_scores.append(corr.item())\n",
    "\n",
    "    return pearson_scores\n",
    "\n",
    "def test_model(model, test_data, device):\n",
    "    model.eval()\n",
    "    num_trajectories, T, num_variables, x_dim, y_dim = test_data.shape\n",
    "\n",
    "    nmse_list = []\n",
    "    ssim_list = []\n",
    "    rmse_list = []\n",
    "\n",
    "    pearson_all = []\n",
    "    high_corr_time_09 = []\n",
    "    high_corr_time_08 = []\n",
    "\n",
    "    for trajectory_idx in range(num_trajectories):\n",
    "        print(f\"now for {trajectory_idx}\")\n",
    "        trajectory = test_data[trajectory_idx]  # shape [T, C, H, W]\n",
    "        truth = trajectory[start_time :start_time + pred_step].to(device)\n",
    "        predictions = torch.zeros((pred_step, num_variables, x_dim, y_dim)).to(device)\n",
    "\n",
    "        for t in range(pred_step):\n",
    "            if t == 0:\n",
    "                input_data = trajectory[start_time-10 :start_time].reshape(-1, x_dim, y_dim).unsqueeze(0).to(device)\n",
    "            predictions[t] = model(input_data)\n",
    "            input_data = input_data[:, num_variables:]\n",
    "            input_data = torch.cat([input_data, predictions[t:t+1]], dim=1)\n",
    "\n",
    "        # 计算三种指标\n",
    "        ssim_values = ssim(predictions, truth, data_range=1.0).item()\n",
    "        nmse_trajectory = compute_nmse(predictions, truth).item()\n",
    "        rmse_trajectory = compute_rmse(predictions, truth).item()\n",
    "\n",
    "        nmse_list.append(nmse_trajectory)\n",
    "        ssim_list.append(ssim_values)\n",
    "        rmse_list.append(rmse_trajectory)\n",
    "\n",
    "        # 计算 Pearson 并记录高相关时间\n",
    "        pearson_scores = compute_pearson(predictions, truth)\n",
    "        pearson_all.append(pearson_scores)\n",
    "\n",
    "        threshold_09 = next((i for i, val in enumerate(pearson_scores) if val < 0.9), pred_step)\n",
    "        threshold_08 = next((i for i, val in enumerate(pearson_scores) if val < 0.8), pred_step)\n",
    "        high_corr_time_09.append(threshold_09)\n",
    "        high_corr_time_08.append(threshold_08)\n",
    "\n",
    "    # 汇总\n",
    "    nmse_mean, nmse_std = np.mean(nmse_list), np.std(nmse_list)\n",
    "    ssim_mean, ssim_std = np.mean(ssim_list), np.std(ssim_list)\n",
    "    rmse_mean, rmse_std = np.mean(rmse_list), np.std(rmse_list)\n",
    "\n",
    "    pearson_all = np.array(pearson_all)  # (N, T)\n",
    "    print(\"pearson\", pearson_all)\n",
    "    pearson_mean = pearson_all.mean(axis=0)\n",
    "    corr_t_09 = np.mean(high_corr_time_09)\n",
    "    corr_t_08 = np.mean(high_corr_time_08)\n",
    "\n",
    "    print(f\"\\n===== Summary =====\")\n",
    "    print(f\"NMSE Mean: {nmse_mean:.5f}, Std: {nmse_std:.5f}\")\n",
    "    print(f\"SSIM Mean: {ssim_mean:.5f}, Std: {ssim_std:.5f}\")\n",
    "    print(f\"RMSE Mean: {rmse_mean:.5f}, Std: {rmse_std:.5f}\")\n",
    "    print(f\"High Corr Time @0.9: {corr_t_09:.1f} steps\")\n",
    "    print(f\"High Corr Time @0.8: {corr_t_08:.1f} steps\")\n",
    "    print(f\"====================\\n\")\n",
    "\n",
    "    return {\n",
    "        \"NMSE_mean\": nmse_mean,\n",
    "        \"NMSE_std\": nmse_std,\n",
    "        \"SSIM_mean\": ssim_mean,\n",
    "        \"SSIM_std\": ssim_std,\n",
    "        \"RMSE_mean\": rmse_mean,\n",
    "        \"RMSE_std\": rmse_std,\n",
    "        \"Pearson_mean_curve\": pearson_mean,\n",
    "        \"HighCorrTime@0.9\": corr_t_09,\n",
    "        \"HighCorrTime@0.8\": corr_t_08,\n",
    "    }\n",
    "\n",
    "\n",
    "# model.to(device)\n",
    "test_data = x_test_normalized.to(device)\n",
    "\n",
    "\n",
    "results = test_model(model, test_data[:1], device)\n",
    "\n"
   ]
  },
  {
   "cell_type": "code",
   "execution_count": null,
   "metadata": {},
   "outputs": [],
   "source": [
    "for t in range(pred_step):\n",
    "        plt.figure(figsize=(12, 4))\n",
    "\n",
    "        # Ground Truth\n",
    "        plt.subplot(131)\n",
    "        plt.title(f\"Ground Truth (step={ t + 1})\")\n",
    "        plt.imshow(truth[t, channel].cpu().numpy(), cmap=\"coolwarm\", vmin=0, vmax=1)\n",
    "        plt.colorbar()\n",
    "\n",
    "        # Prediction\n",
    "        plt.subplot(132)\n",
    "        plt.title(\"Prediction\")\n",
    "        plt.imshow(predictions[t, channel].detach().cpu().numpy(), cmap=\"coolwarm\", vmin=0, vmax=1)\n",
    "        plt.colorbar()\n",
    "\n",
    "        # Difference and MSE\n",
    "        nmse = compute_nmse(truth[t:t+1], predictions[t:t+1]).item()\n",
    "        plt.subplot(133)\n",
    "        plt.title(f\"Difference (NMSE={nmse:.5f})\")\n",
    "        plt.imshow(torch.abs(truth[t, channel] - predictions[t, channel].detach()).cpu().numpy(), cmap=\"coolwarm\")\n",
    "        plt.colorbar()\n",
    "\n",
    "        plt.show()\n",
    "        clear_output(wait=True)  # 显示当前时间步，清除上一时间步"
   ]
  },
  {
   "cell_type": "code",
   "execution_count": null,
   "metadata": {},
   "outputs": [],
   "source": []
  },
  {
   "cell_type": "code",
   "execution_count": 31,
   "metadata": {},
   "outputs": [
    {
     "name": "stdout",
     "output_type": "stream",
     "text": [
      "torch.Size([32, 2, 128, 128])\n"
     ]
    }
   ],
   "source": [
    "print(targets.shape)"
   ]
  },
  {
   "cell_type": "code",
   "execution_count": 34,
   "metadata": {},
   "outputs": [
    {
     "name": "stdout",
     "output_type": "stream",
     "text": [
      "torch.Size([1, 100, 2, 128, 128])\n"
     ]
    },
    {
     "ename": "NameError",
     "evalue": "name 'truth' is not defined",
     "output_type": "error",
     "traceback": [
      "\u001b[31m---------------------------------------------------------------------------\u001b[39m",
      "\u001b[31mNameError\u001b[39m                                 Traceback (most recent call last)",
      "\u001b[36mCell\u001b[39m\u001b[36m \u001b[39m\u001b[32mIn[34]\u001b[39m\u001b[32m, line 46\u001b[39m\n\u001b[32m     44\u001b[39m plt.subplot(\u001b[32m131\u001b[39m)\n\u001b[32m     45\u001b[39m plt.title(\u001b[33mf\u001b[39m\u001b[33m\"\u001b[39m\u001b[33mGround Truth (step=\u001b[39m\u001b[38;5;132;01m{\u001b[39;00m\u001b[38;5;250m \u001b[39mt\u001b[38;5;250m \u001b[39m+\u001b[38;5;250m \u001b[39m\u001b[32m1\u001b[39m\u001b[38;5;132;01m}\u001b[39;00m\u001b[33m)\u001b[39m\u001b[33m\"\u001b[39m)\n\u001b[32m---> \u001b[39m\u001b[32m46\u001b[39m plt.imshow(truth[t, channel].cpu().numpy(), cmap=\u001b[33m\"\u001b[39m\u001b[33mcoolwarm\u001b[39m\u001b[33m\"\u001b[39m, vmin=\u001b[32m0\u001b[39m, vmax=\u001b[32m1\u001b[39m)\n\u001b[32m     47\u001b[39m plt.colorbar()\n\u001b[32m     49\u001b[39m \u001b[38;5;66;03m# Prediction\u001b[39;00m\n",
      "\u001b[31mNameError\u001b[39m: name 'truth' is not defined"
     ]
    },
    {
     "data": {
      "image/png": "[encoded data removed]",
      "text/plain": [
       "<Figure size 1200x400 with 1 Axes>"
      ]
     },
     "metadata": {},
     "output_type": "display_data"
    }
   ],
   "source": []
  }
 ],
 "metadata": {
  "kernelspec": {
   "display_name": "lmenv",
   "language": "python",
   "name": "python3"
  },
  "language_info": {
   "codemirror_mode": {
    "name": "ipython",
    "version": 3
   },
   "file_extension": ".py",
   "mimetype": "text/x-python",
   "name": "python",
   "nbconvert_exporter": "python",
   "pygments_lexer": "ipython3",
   "version": "3.12.9"
  }
 },
 "nbformat": 4,
 "nbformat_minor": 2
}
